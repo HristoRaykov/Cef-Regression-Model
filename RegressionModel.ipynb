{
 "cells": [
  {
   "cell_type": "code",
   "execution_count": 1,
   "metadata": {
    "collapsed": true,
    "pycharm": {
     "is_executing": false
    }
   },
   "outputs": [],
   "source": [
    "%matplotlib inline"
   ]
  },
  {
   "cell_type": "code",
   "execution_count": 2,
   "outputs": [],
   "source": [
    "import numpy as np\n",
    "import pandas as pd\n",
    "import matplotlib.pyplot as plt\n"
   ],
   "metadata": {
    "collapsed": false,
    "pycharm": {
     "name": "#%%\n",
     "is_executing": false
    }
   }
  },
  {
   "cell_type": "markdown",
   "source": [
    "# Multifactor model for pricing Closed-End Funds\n",
    "Hristo T. Raykov  \n",
    "email: hristocr@gmail.com\n",
    "\n",
    "## Abstract\n",
    "\n",
    "## Keywords\n",
    "\n",
    "## 1. Introduction\n",
    "Problem Statement\n",
    "\n",
    "## 2. Literature Review\n",
    "Previous research\n",
    "\n",
    "## 3. Methods\n",
    "Gathering / generating, cleaning, and formatting data. How the research was done. Form a hypothesis.  \n",
    "Data  \n",
    "Regression  \n",
    "etc...\n",
    "\n",
    "## 4. Results \n",
    "Testing and visualization. Report what you actually found. Test the hypothesis with an experiment.\n",
    "\n",
    "## 5. Discussion\n",
    "Interpret your findings for the reader in relation to previous research and the literature as a whole.\n",
    "\n",
    "## 6. Conclusion\n",
    "Communication. \n",
    "\n",
    "## References\n",
    "\n",
    "\n"
   ],
   "metadata": {
    "collapsed": false,
    "pycharm": {
     "name": "#%% md\n"
    }
   }
  }
 ],
 "metadata": {
  "language_info": {
   "codemirror_mode": {
    "name": "ipython",
    "version": 2
   },
   "file_extension": ".py",
   "mimetype": "text/x-python",
   "name": "python",
   "nbconvert_exporter": "python",
   "pygments_lexer": "ipython2",
   "version": "2.7.6"
  },
  "kernelspec": {
   "name": "python3",
   "language": "python",
   "display_name": "Python 3"
  },
  "pycharm": {
   "stem_cell": {
    "cell_type": "raw",
    "source": [],
    "metadata": {
     "collapsed": false
    }
   }
  }
 },
 "nbformat": 4,
 "nbformat_minor": 0
}